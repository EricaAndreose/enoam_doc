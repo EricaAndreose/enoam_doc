{
  "nbformat": 4,
  "nbformat_minor": 0,
  "metadata": {
    "colab": {
      "provenance": [],
      "authorship_tag": "ABX9TyPkskS7vh1v2U6dSDYX6aBj",
      "include_colab_link": true
    },
    "kernelspec": {
      "name": "python3",
      "display_name": "Python 3"
    },
    "language_info": {
      "name": "python"
    }
  },
  "cells": [
    {
      "cell_type": "markdown",
      "metadata": {
        "id": "view-in-github",
        "colab_type": "text"
      },
      "source": [
        "<a href=\"https://colab.research.google.com/github/EricaAndreose/enoam_doc/blob/main/TEIfy_doc.ipynb\" target=\"_parent\"><img src=\"https://colab.research.google.com/assets/colab-badge.svg\" alt=\"Open In Colab\"/></a>"
      ]
    },
    {
      "cell_type": "code",
      "execution_count": null,
      "metadata": {
        "id": "BLLfiPbZ3i3c"
      },
      "outputs": [],
      "source": [
        "from datetime import datetime\n",
        "from bs4 import BeautifulSoup"
      ]
    },
    {
      "cell_type": "markdown",
      "source": [
        "Si importano le seguenti librerie:\n",
        "\n",
        "**datetime**: fornisce classi per manipolare date e orari in modo semplice e potente.\n",
        "\n",
        "**BeautifulSoup**: utilizzata per analizzare documenti HTML e XML, permettendo di estrarre informazioni e navigare nella struttura del documento."
      ],
      "metadata": {
        "id": "uL24jslV4NPN"
      }
    },
    {
      "cell_type": "code",
      "source": [
        "# FIX AND ALIGN PARAGRAPHS TO TEI\n",
        "def TEIps(soup):\n",
        "    try:\n",
        "        #Find all paragraph tags in the soup object\n",
        "        paragraphs = soup.find_all('p')\n",
        "        for p in paragraphs:\n",
        "            #Set the 'xml:id' attribute to the value of the 'id' attribute\n",
        "            p['xml:id'] = p['id']\n",
        "            #Set the 'n' attribute to the value of the 'data-counter' attribute\n",
        "            p['n'] = p['data-counter']\n",
        "            #Remove the 'id', 'class', 'data-counter' attribute from the paragraph tag\n",
        "            del p['id']\n",
        "            del p['class']\n",
        "            del p['data-counter']\n",
        "    #If an error occurs, do nothing\n",
        "    except: None\n"
      ],
      "metadata": {
        "id": "JSf1G7hH_Px0"
      },
      "execution_count": null,
      "outputs": []
    },
    {
      "cell_type": "markdown",
      "source": [
        "`TEIps` ha lo scopo di trasformare i tag `p` di un documento HTML in modo che siano allineati con il formato TEI.\n",
        "\n"
      ],
      "metadata": {
        "id": "VfsYPp5K_d0V"
      }
    },
    {
      "cell_type": "code",
      "source": [
        "# FIX AND ALIGN CURATOR NOTES TO TEI\n",
        "def TEIcuratornotes(soup):\n",
        "    try:\n",
        "        #Find the curator notes section in the soup object (ol ordered list and li list item)\n",
        "        curatornotes = soup.find('ol', id='curatorNotes')\n",
        "        notes = curatornotes.find_all('li')\n",
        "        for li in notes:\n",
        "            li.name = 'note' #change the tag name\n",
        "            li['xml:id'] = li['id']\n",
        "            li['corresp'] = li['about']\n",
        "            li['type'] = 'footnote'\n",
        "            del li['id']\n",
        "            del li['about']\n",
        "            del li['typeof']\n",
        "            del li['property']\n",
        "            del li['resource']\n",
        "        #change the tag name from 'ol' to 'noteGrp'\n",
        "        curatornotes.name = 'noteGrp'\n",
        "        curatornotes['xml:id'] = curatornotes['id']\n",
        "        del curatornotes['id']\n",
        "    except: None"
      ],
      "metadata": {
        "id": "c5EoREw_C6ZQ"
      },
      "execution_count": null,
      "outputs": []
    },
    {
      "cell_type": "markdown",
      "source": [
        "Questa funzione ha lo scopo di trasformare una lista ordinata di note del curatore in un gruppo di note conforme al formato TEI."
      ],
      "metadata": {
        "id": "0kIugxKwDwM-"
      }
    }
  ]
}