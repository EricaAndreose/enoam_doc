{
  "nbformat": 4,
  "nbformat_minor": 0,
  "metadata": {
    "colab": {
      "provenance": [],
      "authorship_tag": "ABX9TyNlqgwWF19fBcehhRUqkave",
      "include_colab_link": true
    },
    "kernelspec": {
      "name": "python3",
      "display_name": "Python 3"
    },
    "language_info": {
      "name": "python"
    }
  },
  "cells": [
    {
      "cell_type": "markdown",
      "metadata": {
        "id": "view-in-github",
        "colab_type": "text"
      },
      "source": [
        "<a href=\"https://colab.research.google.com/github/EricaAndreose/enoam_doc/blob/main/Recast_doc.ipynb\" target=\"_parent\"><img src=\"https://colab.research.google.com/assets/colab-badge.svg\" alt=\"Open In Colab\"/></a>"
      ]
    },
    {
      "cell_type": "code",
      "execution_count": null,
      "metadata": {
        "id": "hO3b_gLb2eDu"
      },
      "outputs": [],
      "source": [
        "import re, unicodedata, unidecode\n",
        "from bs4 import BeautifulSoup\n",
        "from qwikidata.entity import WikidataItem\n",
        "from qwikidata.linked_data_interface import get_entity_dict_from_api"
      ]
    },
    {
      "cell_type": "markdown",
      "source": [
        "Qui stiamo importando le seguenti librerie:\n",
        "\n",
        "\n",
        "*   **re**: Per lavorare con le espressioni regolari.\n",
        "*   **unicodedata**: Per lavorare con i dati Unicode.\n",
        "*   **unidecode**: Per traslitterare i caratteri Unicode in caratteri ASCII.\n",
        "*   **BeautifulSoup**: Per analizzare e fare parsing di documenti HTML.\n",
        "*   **WikidataItem**: Per interagire con gli elementi di Wikidata.\n",
        "*   **get_entity_dict_from_api**: Per ottenere i dati di un'entità da Wikidata tramite l'API."
      ],
      "metadata": {
        "id": "m_ucdIeV2j9G"
      }
    },
    {
      "cell_type": "code",
      "source": [
        "# CONVERT FAKE HEAD AND BODY INTO ACTUAL TAGS\n",
        "def convert_head_body(old_soup, soup):\n",
        "    headfile = old_soup.find('div', id='headFile') # searching for \"div\" elements with \"headFile\" as id\n",
        "    bodyfile = old_soup.find('div', id='bodyFile') # searching for \"div\" elements with \"bodyFile\" as id\n",
        "    if headfile:\n",
        "        soup.head.insert(1, headfile) # Insert headfile into soup's head tag\n",
        "        headfile.unwrap() # Remove headfile from its original position\n",
        "    if bodyfile:\n",
        "        soup.body.insert(1, bodyfile) # Insert bodyfile into soup's body tag\n",
        "        bodyfile.unwrap() # Remove bodyfile from its original position"
      ],
      "metadata": {
        "id": "EsvmPQ0T2-91"
      },
      "execution_count": null,
      "outputs": []
    },
    {
      "cell_type": "markdown",
      "source": [
        "La funzione `convert_head_body` prende due oggetti BeautifulSoup come input: `old_soup` e `soup`.\n",
        "\n",
        "Cerca all'interno di `old_soup` due elementi div con gli id \"headFile\" e \"bodyFile\". Se questi elementi vengono trovati, vengono inseriti rispettivamente all'interno dei tag `head` e `body` di `soup`, e poi vengono rimossi dalla loro posizione originale in `old_soup` usando il metodo `unwrap()`.\n",
        "\n",
        "In pratica, questa funzione sposta il contenuto dei `div` \"headFile\" e \"bodyFile\" da `old_soup` ai tag `head` e `body` di `soup`, aggiornando la struttura del documento HTML."
      ],
      "metadata": {
        "id": "Oe-bRQD94oSL"
      }
    },
    {
      "cell_type": "code",
      "source": [
        "# INSERT META TAGS\n",
        "def insert_seo_meta(soup, metadata):\n",
        "    split_ident = metadata['ident'].split('_')\n",
        "\n",
        "    section = ''\n",
        "    volume = ''\n",
        "    curators = ''\n",
        "    if split_ident[0] == '1':\n",
        "        section = 'Scritti e Discorsi'\n",
        "        if split_ident[1] == '1':\n",
        "            volume = 'Gli anni giovanili (1932-1946)'\n",
        "            curators = 'Gaetano Crociata e Paolo Trionfini'\n",
        "        elif split_ident[1] == '2':\n",
        "            volume = 'Il periodo dossettiano e di Iniziativa democratica (1946-1958)'\n",
        "            if split_ident[2] == '1':\n",
        "                volume = 'Il periodo dossettiano (1946-1951)'\n",
        "            elif split_ident[2] == '2':\n",
        "                volume = 'Iniziativa democratica (1952-1958)'\n",
        "            curators = 'Ugo De Siervo e Enrico Galavotti'\n",
        "        elif split_ident[1] == '3':\n",
        "            volume = 'Il centro-sinistra (1952-1958)'\n",
        "            if split_ident[2] == '1':\n",
        "                volume = 'Segretario della DC (1959-1963)'\n",
        "            elif split_ident[2] == '2':\n",
        "                volume = 'La prima legislatura di centro-sinistra (1964-1968)'\n",
        "            curators = 'Leopoldo Nuti e Paolo Pombeni'\n",
        "        elif split_ident[1] == '4':\n",
        "            volume = 'L’ultima fase (1969-1978)'\n",
        "            if split_ident[2] == '1':\n",
        "                volume = 'Al ministero degli Esteri e all’opposizione nel partito (giugno 1968 – maggio 1973)'\n",
        "            elif split_ident[2] == '2':\n",
        "                volume = 'Il ritorno al centro-sinistra e la “solidarietà nazionale” (giugno 1973 – maggio 1978)'\n",
        "            curators = 'Guido Formigoni e Agostino Giovagnoli'\n",
        "    elif split_ident[0] == '2':\n",
        "        section = 'Opere Giuridiche'\n",
        "        if split_ident[1] == '1':\n",
        "            volume = 'Le prime monografie (1939-1942)'\n",
        "            curators = 'Luciano Eusebi'\n",
        "        elif split_ident[1] == '2':\n",
        "            volume = 'Le dispense di filosofia del diritto (1941-1947)'\n",
        "            curators = 'Nicola Antonetti e Renato Moro'\n",
        "        elif split_ident[1] == '3':\n",
        "            volume = 'Le monografie del dopoguerra (1947-1951)'\n",
        "            curators = 'Marco Pelissero'\n",
        "        elif split_ident[1] == '4':\n",
        "            volume = 'Le lezioni di istituzioni di diritto e procedura penale'\n",
        "            curators = 'Marco Pelissero'"
      ],
      "metadata": {
        "id": "ybLVaj9x5R8S"
      },
      "execution_count": null,
      "outputs": []
    }
  ]
}