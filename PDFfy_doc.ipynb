{
  "nbformat": 4,
  "nbformat_minor": 0,
  "metadata": {
    "colab": {
      "provenance": [],
      "authorship_tag": "ABX9TyPIm+KtyNTm/FPOiuwME4ts",
      "include_colab_link": true
    },
    "kernelspec": {
      "name": "python3",
      "display_name": "Python 3"
    },
    "language_info": {
      "name": "python"
    }
  },
  "cells": [
    {
      "cell_type": "markdown",
      "metadata": {
        "id": "view-in-github",
        "colab_type": "text"
      },
      "source": [
        "<a href=\"https://colab.research.google.com/github/EricaAndreose/enoam_doc/blob/main/PDFfy_doc.ipynb\" target=\"_parent\"><img src=\"https://colab.research.google.com/assets/colab-badge.svg\" alt=\"Open In Colab\"/></a>"
      ]
    },
    {
      "cell_type": "code",
      "execution_count": null,
      "metadata": {
        "id": "V04vcM3-2Co6"
      },
      "outputs": [],
      "source": [
        "from bs4 import BeautifulSoup"
      ]
    },
    {
      "cell_type": "markdown",
      "source": [
        "Si importa la libreria **BeautifulSoup**: utilizzata per analizzare documenti HTML e XML, permettendo di estrarre informazioni e navigare nella struttura del documento."
      ],
      "metadata": {
        "id": "iUbn2zrT4cvY"
      }
    },
    {
      "cell_type": "code",
      "source": [
        "# FUNCTION THAT INSERTS AND FORMATS METADATA INTO THE DOCUMENT AND CONVERTS IT INTO A PDF FILE\n",
        "def generate_pdf(html_path, metadata):\n",
        "\n",
        "    # OPEN FILE AND GENERATE SOUP\n",
        "    with open(html_path, encoding='utf-8') as fp:\n",
        "        soup = BeautifulSoup(fp, 'html.parser')\n",
        "        fp.close()\n",
        "\n",
        "\n",
        "    # INSERT ABSTRACT\n",
        "    abstract = soup.new_tag('div')\n",
        "    abstract['id'] = 'abstract'\n",
        "    em = soup.new_tag('em')\n",
        "    em.string = f\"{metadata['abstract']}\"\n",
        "    abstract.append(em)\n",
        "    soup.h1.insert_after(abstract)\n",
        "\n",
        "\n",
        "    # CREATE AREA FOR METADATA\n",
        "    metadata_area = soup.new_tag('div')\n",
        "    metadata_area['id'] = 'divHeader'\n",
        "\n",
        "\n",
        "    # INSERT DESCRIPTION\n",
        "    desc = soup.new_tag('div')\n",
        "    html_desc = soup.find('meta', attrs={'name': \"description\"})\n",
        "    desc.string = html_desc['content']\n",
        "    metadata_area.append(desc)\n",
        "\n",
        "\n",
        "    # INSERT RIGHTS\n",
        "    rights = soup.new_tag('div')\n",
        "    html_rights = soup.find('meta', attrs={'name': 'dcterms.rights'})\n",
        "    a = soup.new_tag('a', href=f\"{html_rights['content']}\")\n",
        "    a.string = 'CC BY-NC 4.0'\n",
        "    rights.append(a)\n",
        "    rights.a.insert_before('Opera rilasciata con licenza ')\n",
        "    metadata_area.append(rights)\n",
        "\n",
        "\n",
        "    # INSERT DOI\n",
        "    doi = soup.new_tag('div')\n",
        "    html_doi = soup.find('meta', attrs={'name': 'dcterms.identifier'})\n",
        "    html_url = soup.find('meta', attrs={'name': 'dcterms.relation'})\n",
        "    a = soup.new_tag('a', href=f\"{html_url['content']}\")\n",
        "    a.string = html_doi[\"content\"]\n",
        "    doi.append(a)\n",
        "    doi.a.insert_before('DOI: ')\n",
        "    metadata_area.append(doi)\n",
        "\n",
        "\n",
        "    # INSERT METADATA AREA INTO SOUP\n",
        "    soup.h1.insert_before(metadata_area)\n",
        "\n",
        "\n",
        "    # RETURN SOUP AS STRING TO ALLOW STYLING\n",
        "    return str(soup)"
      ],
      "metadata": {
        "id": "faStZyT-2gLH"
      },
      "execution_count": null,
      "outputs": []
    },
    {
      "cell_type": "markdown",
      "source": [
        "La funzione` generate_pdf` prende in input l'html originale del documento preso da Kwic e i metadati salvati su MongoDB. Inserisce e formatta i metadati nel documento HTML. Infine, restituisce il documento modificato come una stringa HTML, che può essere ulteriormente elaborata, ad esempio, per la conversione in PDF.\n",
        "\n",
        "Vediamo gli step della funzione:\n",
        "\n",
        "1. Apertura e Parsing del File HTML: Il file html originale (scaricato da KwicKwocKwac) viene aperto e caricato in un oggetto BeautifulSoup per essere modificato.\n",
        "\n",
        "2. Inserimento dell'Abstract: Viene creato un nuovo elemento `div` con l'ID abstract. All'interno di questo `div`, viene inserito un elemento `em` (corsivo) contenente il testo dell'abstract prelevato dai metadati.\n",
        "Questo `div` viene inserito nel documento subito dopo il tag `h1`.\n",
        "\n",
        "3. Creazione dell'Area per i Metadati: Viene creato un nuovo `div` con l'ID `divHeader` per contenere i metadati aggiuntivi.\n",
        "\n",
        "4. Inserimento della Descrizione: Viene creato un nuovo `div` che contiene la descrizione del documento, recuperata dal meta tag description dell'html originale. Questo `div` viene aggiunto all'area dei metadati (`divHeader`).\n",
        "\n",
        "5. Inserimento dei Diritti d'Autore: Viene creato un nuovo `div` che contiene un link alla licenza associata al documento, recuperato dal meta tag dcterms.rights. Il link è formattato come \"Opera rilasciata con licenza CC BY-NC 4.0\".\n",
        "Questo `div` viene aggiunto all'area dei metadati.\n",
        "\n",
        "6. Inserimento del DOI: Viene creato un nuovo `div` che contiene un link al DOI del documento, formattato come \"DOI: [DOI]\". Il link è recuperato dai meta tag `dcterms.identifier` e `dcterms.relation`. Anche questo `div` viene aggiunto all'area dei metadati.\n",
        "\n",
        "7. Inserimento dell'Area dei Metadati nel Documento: L'area dei metadati (`divHeader`) viene inserita nel documento HTML prima del tag `h1`.\n",
        "\n",
        "8. Restituzione del Documento Modificato: La funzione restituisce il documento html modificato come una stringa, permettendo di applicare ulteriori stili o convertirlo in PDF."
      ],
      "metadata": {
        "id": "6Bu3Fo0l6BKK"
      }
    }
  ]
}