{
  "nbformat": 4,
  "nbformat_minor": 0,
  "metadata": {
    "colab": {
      "provenance": [],
      "authorship_tag": "ABX9TyP8o4V3gUKkvEaZY1bmzzhR",
      "include_colab_link": true
    },
    "kernelspec": {
      "name": "python3",
      "display_name": "Python 3"
    },
    "language_info": {
      "name": "python"
    }
  },
  "cells": [
    {
      "cell_type": "markdown",
      "metadata": {
        "id": "view-in-github",
        "colab_type": "text"
      },
      "source": [
        "<a href=\"https://colab.research.google.com/github/EricaAndreose/enoam_doc/blob/main/Generate_doc.ipynb\" target=\"_parent\"><img src=\"https://colab.research.google.com/assets/colab-badge.svg\" alt=\"Open In Colab\"/></a>"
      ]
    },
    {
      "cell_type": "code",
      "execution_count": null,
      "metadata": {
        "id": "xbRPz2hLX6uE"
      },
      "outputs": [],
      "source": [
        "import rdflib\n",
        "from datetime import datetime\n",
        "from rdflib import URIRef, Namespace, Literal\n",
        "from rdflib.namespace import RDF, RDFS, DCTERMS, FOAF, XSD, SKOS, OWL\n",
        "from lib.location3 import get_coordinates, normalize_location\n",
        "import os"
      ]
    },
    {
      "cell_type": "markdown",
      "source": [
        "Importazione librerie:\n",
        "\n",
        "1. **rdflib**: libreria Python per lavorare con grafi RDF.\n",
        "2. **datetime**: modulo Python utilizzato per lavorare con date e orari.\n",
        "3. **rdflib** (URIRef, rdflib.Namespace, rdflib.Literal): specifici costrutti di RDFLib per lavorare rispettivamente con URI, namespace e valori letterali.\n",
        "4. **rdflib.namespace.RDF, rdflib.namespace.RDFS, rdflib.namespace.DCTERMS, rdflib.namespace.FOAF, rdflib.namespace.XSD, rdflib.namespace.SKOS, rdflib.namespace.OWL**: namespace standard per l'RDF, ciascuno utilizzato per rappresentare diversi tipi di dati e metadati. Vediamoli nel dettaglio:\n",
        "  * **RDF**: RDF Schema, utilizzato per descrivere risorse e le loro proprietà.\n",
        "\n",
        "  * **RDFS**: estensione di RDF per fornire vocabolari più ricchi.\n",
        "  * **DCTERMS**: Dublin Core Terms, un set di termini utilizzati per descrivere le risorse.\n",
        "  * **FOAF**: Friend of a Friend, un vocabolario RDF per descrivere persone, le loro relazioni e i loro luoghi.\n",
        "  * **XSD**: XML Schema Definition, usato per definire tipi di dati.\n",
        "  * **SKOS**: Simple Knowledge Organization System, utilizzato per la rappresentazione dei thesauri.\n",
        "  * **OWL**: Web Ontology Language, utilizzato per definire ontologie.\n",
        "\n",
        "5. **os**: modulo standard di Python utilizzato per interagire con il sistema operativo, ad esempio per lavorare con file, directory e variabili d'ambiente.\n",
        "\n",
        "Vengono inoltre importate funzioni da un modulo locale:\n",
        "\n",
        "`get_coordinates` e `normalize_location` sono due funzioni importate dal modulo **lib.location3**."
      ],
      "metadata": {
        "id": "Qc4i8uxQYDNe"
      }
    },
    {
      "cell_type": "code",
      "source": [
        "# ADD MAIN FRBR STATEMENTS (FRBR entities, relations between them, labels)\n",
        "def add_frbr(g, document, work, expression, manifestation, fabio, frbr):\n",
        "    g.add((work, RDF.type, fabio.Work))\n",
        "    g.add((expression, RDF.type, fabio.Expression))\n",
        "    g.add((manifestation, RDF.type, fabio.Manifestation))\n",
        "    g.add((work, RDFS.label, Literal(f'{document[\"title\"]} (FRBR Work)', datatype=XSD.string)))\n",
        "    g.add((work, frbr.realization, expression))\n",
        "    g.add((work, fabio.hasManifestation, manifestation))\n",
        "    g.add((expression, frbr.embodiment, manifestation))\n",
        "    g.add((expression, RDFS.label, Literal(f'{document[\"title\"]} (FRBR Expression)', datatype=XSD.string)))\n",
        "    g.add((manifestation, RDFS.label, Literal(f'{document[\"title\"]} (FRBR Manifestation)', datatype=XSD.string)))"
      ],
      "metadata": {
        "id": "-YWKtCapYbHk"
      },
      "execution_count": null,
      "outputs": []
    },
    {
      "cell_type": "markdown",
      "source": [
        "\n",
        "La funzione `add_frbr` aggiunge triple RDF al grafo g per rappresentare entità e relazioni basate sul modello FRBR (Functional Requirements for Bibliographic Records). Questo modello è utilizzato per descrivere la struttura concettuale di opere bibliografiche, e la funzione in questione si occupa di creare e collegare le entità principali del modello: Work, Expression e Manifestation.\n",
        "\n",
        "La funzione prende in input:\n",
        "\n",
        "**g**: un oggetto Graph di RDFLib che rappresenta il grafo RDF in cui verranno aggiunte le dichiarazioni.\n",
        "\n",
        "# **document**: un dizionario che contiene informazioni sul documento, inclusi probabilmente il titolo (title) e altre proprietà rilevanti.\n",
        "\n",
        "\n",
        "**work, expression, manifestation**: URIRef che rappresentano le entità Work, Expression e Manifestation nel grafo RDF.\n",
        "\n",
        "**fabio**: namespace che contiene classi e proprietà del modello FaBiO (FRBR-aligned Bibliographic Ontology), utilizzato per estendere FRBR.\n",
        "\n",
        "**frbr**: namespace che contiene le relazioni standard del modello FRBR."
      ],
      "metadata": {
        "id": "pzc_FQP2cU5U"
      }
    },
    {
      "cell_type": "code",
      "source": [],
      "metadata": {
        "id": "sI1oAK_Ocoi4"
      },
      "execution_count": null,
      "outputs": []
    }
  ]
}